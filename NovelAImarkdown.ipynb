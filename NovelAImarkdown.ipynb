{
 "cells": [
  {
   "cell_type": "code",
   "execution_count": null,
   "metadata": {},
   "outputs": [],
   "source": [
    "\n",
    "# Based on 4chan NovelAILeaks (naifu)src\n",
    "\n",
    "# Credit: https://t.me/StableDiffusion_CN https://t.me/exlolicon\n",
    "\n",
    "# Thanks: Anonymous, 炼铜术士, 神楽坂早苗️, Jonathan, 咕 咕, 猫又逆变器, Gaein nidb"
   ]
  },
  {
   "cell_type": "code",
   "execution_count": null,
   "metadata": {},
   "outputs": [],
   "source": [
    "import torch\n",
    "torch.cuda.is_available()\n"
   ]
  },
  {
   "cell_type": "code",
   "execution_count": null,
   "metadata": {},
   "outputs": [],
   "source": [
    "#@title ### 0. 檢查 GPU 工作狀態\n",
    "\n",
    "!nvidia-smi"
   ]
  },
  {
   "cell_type": "code",
   "execution_count": null,
   "metadata": {},
   "outputs": [],
   "source": [
    "#@title ### 1. 下載 Novel AI API 後端、模型 \n",
    "#@markdown 如果下載速度太慢可以嘗試 restart\n",
    "\n",
    "%cd /content/\n",
    "!apt install -y -qq aria2\n",
    "!aria2c --summary-interval=5 -x 3 --allow-overwrite=true -Z \\\n",
    "  https://pub-2fdef7a2969f43289c42ac5ae3412fd4.r2.dev/naifu.tar \\\n",
    "  https://pub-2fdef7a2969f43289c42ac5ae3412fd4.r2.dev/animefull-latest.tar \n",
    "  \n",
    "!echo \"Decompressing...\"\n",
    "!tar xf naifu.tar && rm naifu.tar\n",
    "!echo \"Done.\""
   ]
  },
  {
   "cell_type": "code",
   "execution_count": null,
   "metadata": {},
   "outputs": [],
   "source": [
    "#@title ### 2. 安裝依賴\n",
    "#@markdown 耐心等待安裝完成\n",
    "\n",
    "%cd /content/naifu\n",
    "!pip install virtualenv && bash ./setup.sh\n",
    "!curl -Ls https://github.com/ekzhang/bore/releases/download/v0.4.0/bore-v0.4.0-x86_64-unknown-linux-musl.tar.gz | tar zx -C /usr/bin\n",
    "!curl -Lo /usr/bin/cloudflared https://github.com/cloudflare/cloudflared/releases/latest/download/cloudflared-linux-amd64 && chmod +x /usr/bin"
   ]
  },
  {
   "cell_type": "code",
   "execution_count": null,
   "metadata": {},
   "outputs": [],
   "source": [
    "#@title ### 3. 啟動模型\n",
    "#@markdown 訪問輸出的映射地址（以 `trycloudflare.com` / `bore.pub` 結尾）即可。\n",
    "#@markdown - 請等待模型加載完成（出現`Application startup complete`字樣）再訪問\n",
    "#@markdown - cloudflare 提供的服務偶爾會出現請求超時，推薦用 http://bore:${remote_port號碼} \n",
    "\n",
    "%cd /content/naifu\n",
    "!sed -i 's/# export SAVE_FILES=\"1\"/export SAVE_FILES=\"1\"/g' run.sh\n",
    "!bash run.sh & cloudflared tunnel --url localhost:6969"
   ]
  }
 ],
 "metadata": {
  "language_info": {
   "name": "python"
  },
  "orig_nbformat": 4
 },
 "nbformat": 4,
 "nbformat_minor": 2
}
